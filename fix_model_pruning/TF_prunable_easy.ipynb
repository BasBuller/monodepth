{
 "cells": [
  {
   "cell_type": "code",
   "execution_count": 1,
   "metadata": {
    "cellView": "both",
    "colab": {
     "autoexec": {
      "startup": false,
      "wait_interval": 0
     }
    },
    "colab_type": "code",
    "id": "tm2CQN_Cpwj0"
   },
   "outputs": [],
   "source": [
    "# These are all the modules we'll be using later. Make sure you can import them\n",
    "# before proceeding further.\n",
    "from __future__ import print_function\n",
    "from functools import reduce\n",
    "import shutil, os\n",
    "import numpy as np\n",
    "import tensorflow as tf\n",
    "import tensorflow.contrib.model_pruning as pruning\n",
    "from six.moves import cPickle as pickle\n",
    "from six.moves import range"
   ]
  },
  {
   "cell_type": "code",
   "execution_count": 2,
   "metadata": {
    "cellView": "both",
    "colab": {
     "autoexec": {
      "startup": false,
      "wait_interval": 0
     },
     "output_extras": [
      {
       "item_id": 1
      }
     ]
    },
    "colab_type": "code",
    "executionInfo": {
     "elapsed": 11948,
     "status": "ok",
     "timestamp": 1446658914837,
     "user": {
      "color": "",
      "displayName": "",
      "isAnonymous": false,
      "isMe": true,
      "permissionId": "",
      "photoUrl": "",
      "sessionId": "0",
      "userId": ""
     },
     "user_tz": 480
    },
    "id": "y3-cj1bpmuxc",
    "outputId": "016b1a51-0290-4b08-efdb-8c95ffc3cd01"
   },
   "outputs": [
    {
     "name": "stdout",
     "output_type": "stream",
     "text": [
      "Training set (200000, 28, 28, 1) (200000, 10)\n",
      "Validation set (10000, 28, 28, 1) (10000, 10)\n",
      "Test set (10000, 28, 28, 1) (10000, 10)\n"
     ]
    }
   ],
   "source": [
    "# Download pickle from: https://drive.google.com/file/d/1rDhbg-8J4ucd32WTY5Ff_oJMAY_-W0k7/view?usp=sharing\n",
    "\n",
    "# Change to correct picke location.\n",
    "pickle_file = '../../../CS4180_Deep_Learning/2_DeepLearningPreliminaries/notMNIST.pickle'\n",
    "\n",
    "with open(pickle_file, 'rb') as f:\n",
    "    \n",
    "    save = pickle.load(f)\n",
    "    train_dataset = save['train_dataset']\n",
    "    train_labels = save['train_labels']\n",
    "    valid_dataset = save['valid_dataset']\n",
    "    valid_labels = save['valid_labels']\n",
    "    test_dataset = save['test_dataset']\n",
    "    test_labels = save['test_labels']\n",
    "    \n",
    "    del save  # hint to help gc free up memory\n",
    "    \n",
    "image_size = 28\n",
    "num_labels = 10\n",
    "num_channels = 1 # grayscale\n",
    "\n",
    "def reformat(dataset, labels):\n",
    "    \n",
    "    dataset = dataset.reshape((-1, image_size, image_size, num_channels)).astype(np.float32)\n",
    "    labels = (np.arange(num_labels) == labels[:,None]).astype(np.float32)  # None does the same as np.newaxis\n",
    "    \n",
    "    return dataset, labels\n",
    "\n",
    "train_dataset, train_labels = reformat(train_dataset, train_labels)\n",
    "valid_dataset, valid_labels = reformat(valid_dataset, valid_labels)\n",
    "test_dataset, test_labels = reformat(test_dataset, test_labels)\n",
    "\n",
    "print('Training set', train_dataset.shape, train_labels.shape)\n",
    "print('Validation set', valid_dataset.shape, valid_labels.shape)\n",
    "print('Test set', test_dataset.shape, test_labels.shape)"
   ]
  },
  {
   "cell_type": "code",
   "execution_count": 3,
   "metadata": {
    "cellView": "both",
    "colab": {
     "autoexec": {
      "startup": false,
      "wait_interval": 0
     }
    },
    "colab_type": "code",
    "id": "AgQDIREv02p1"
   },
   "outputs": [],
   "source": [
    "def accuracy(predictions, labels):\n",
    "    \n",
    "    return (100.0 * np.sum(np.argmax(predictions, 1) == np.argmax(labels, 1))\n",
    "          / predictions.shape[0])"
   ]
  },
  {
   "cell_type": "code",
   "execution_count": null,
   "metadata": {},
   "outputs": [
    {
     "name": "stdout",
     "output_type": "stream",
     "text": [
      "INFO:tensorflow:Updating masks.\n",
      "INFO:tensorflow:Summary name model/Conv/mask:0/sparsity is illegal; using model/Conv/mask_0/sparsity instead.\n",
      "INFO:tensorflow:Summary name model/Conv_1/mask:0/sparsity is illegal; using model/Conv_1/mask_0/sparsity instead.\n",
      "INFO:tensorflow:Summary name model/fully_connected/mask:0/sparsity is illegal; using model/fully_connected/mask_0/sparsity instead.\n",
      "INFO:tensorflow:Summary name model/fully_connected_1/mask:0/sparsity is illegal; using model/fully_connected_1/mask_0/sparsity instead.\n",
      "INFO:tensorflow:Summary name model/Conv/mask:0/sparsity is illegal; using model/Conv/mask_0/sparsity instead.\n",
      "INFO:tensorflow:Summary name model/Conv_1/mask:0/sparsity is illegal; using model/Conv_1/mask_0/sparsity instead.\n",
      "INFO:tensorflow:Summary name model/fully_connected/mask:0/sparsity is illegal; using model/fully_connected/mask_0/sparsity instead.\n",
      "INFO:tensorflow:Summary name model/fully_connected_1/mask:0/sparsity is illegal; using model/fully_connected_1/mask_0/sparsity instead.\n",
      "INFO:tensorflow:Summary name model/Conv/mask:0/sparsity is illegal; using model/Conv/mask_0/sparsity instead.\n",
      "INFO:tensorflow:Summary name model/Conv_1/mask:0/sparsity is illegal; using model/Conv_1/mask_0/sparsity instead.\n",
      "INFO:tensorflow:Summary name model/fully_connected/mask:0/sparsity is illegal; using model/fully_connected/mask_0/sparsity instead.\n",
      "INFO:tensorflow:Summary name model/fully_connected_1/mask:0/sparsity is illegal; using model/fully_connected_1/mask_0/sparsity instead.\n",
      "Minibatch loss at step 0: 2.314737\n",
      "Minibatch accuracy: 0.0%\n",
      "Validation accuracy: 15.5%\n",
      "Mask: 1.0\n",
      "Threshold: 0.0\n",
      "Minibatch loss at step 200: 1.194307\n",
      "Minibatch accuracy: 80.0%\n",
      "Validation accuracy: 64.0%\n",
      "Mask: 0.9\n",
      "Threshold: 0.0\n",
      "Minibatch loss at step 400: 0.750243\n",
      "Minibatch accuracy: 70.0%\n",
      "Validation accuracy: 65.8%\n",
      "Mask: 0.7\n",
      "Threshold: 0.0\n"
     ]
    }
   ],
   "source": [
    "tf.reset_default_graph()\n",
    "    \n",
    "# Global step.\n",
    "global_step = tf.train.get_or_create_global_step()\n",
    "\n",
    "# Parameters.\n",
    "batch_size = 10\n",
    "kernel = [5, 5]\n",
    "stride = [2, 2]\n",
    "filters = 16\n",
    "units_dense = 32\n",
    "\n",
    "# Training data.\n",
    "tf_train_dataset = tf.placeholder(tf.float32, shape=[batch_size, image_size, image_size, num_channels], name='train_data')\n",
    "tf_train_labels = tf.placeholder(tf.float32, shape=[batch_size, num_labels], name='train_labels')\n",
    "\n",
    "# Validation data.\n",
    "tf_valid_dataset = tf.constant(valid_dataset)\n",
    "\n",
    "# Test data.\n",
    "tf_test_dataset = tf.constant(test_dataset)\n",
    "\n",
    "def model(data, reuse=tf.AUTO_REUSE):\n",
    "\n",
    "    with tf.variable_scope('model', reuse=reuse) as scope:\n",
    "\n",
    "        # Convolution 1.\n",
    "        conv1 = pruning.masked_conv2d(data, filters, kernel, stride=stride, padding='same',\n",
    "                                  activation_fn=tf.nn.relu)\n",
    "\n",
    "        # Convolution 2.\n",
    "        conv2 = pruning.masked_conv2d(conv1, filters, kernel, stride=stride, padding='same',\n",
    "                                      activation_fn=tf.nn.relu)\n",
    "\n",
    "        # Dense.\n",
    "        conv2_shape = conv2.shape.as_list()\n",
    "        dense_units = reduce(lambda x, y: x * y, conv2_shape[1:])\n",
    "        conv2_flat = tf.reshape(conv2, [-1, dense_units])    \n",
    "        dense = pruning.masked_fully_connected(conv2_flat, units_dense, activation_fn=tf.nn.relu)\n",
    "\n",
    "        # Logits.\n",
    "        logits = pruning.masked_fully_connected(dense, 10)\n",
    "\n",
    "    return logits\n",
    "\n",
    "# Training predictions.\n",
    "with tf.name_scope('training'):\n",
    "\n",
    "    # Training computation.\n",
    "    logits = model(tf_train_dataset)\n",
    "\n",
    "    # Sparse logit loss.\n",
    "    loss = tf.losses.softmax_cross_entropy(tf_train_labels, logits)\n",
    "    train_prediction = tf.nn.softmax(logits)\n",
    "\n",
    "# Validation predictions.\n",
    "with tf.name_scope('validation'):\n",
    "    valid_prediction = tf.nn.softmax(model(tf_valid_dataset))\n",
    "\n",
    "# Test predictions\n",
    "with tf.name_scope('testing'):\n",
    "    test_prediction = tf.nn.softmax(model(tf_test_dataset))\n",
    "\n",
    "# Optimizer.\n",
    "optimizer = tf.train.AdamOptimizer(learning_rate=0.002).minimize(loss, global_step=global_step)\n",
    "\n",
    "# Summaries.\n",
    "tf.summary.scalar('loss', loss)\n",
    "\n",
    "### Training process ###\n",
    "\n",
    "# Remove graphs dir.\n",
    "if os.path.isdir('graphs/easy/prunable'):\n",
    "    shutil.rmtree('graphs/easy/prunable')\n",
    "\n",
    "# Training steps.\n",
    "num_steps = 2001\n",
    "\n",
    "with tf.Session() as sess:\n",
    "    \n",
    "    # Pruning hyperparameters.\n",
    "    pruning_hparams = pruning.get_pruning_hparams().parse(\"target_sparsity=0.5, sparsity_function_begin_step=100, sparsity_function_end_step=1000\")\n",
    "\n",
    "    # Pruning object.\n",
    "    pruning_obj = pruning.Pruning(pruning_hparams, global_step=global_step)\n",
    "\n",
    "    # Use the pruning_obj to add ops to the training graph to update the masks.\n",
    "    # The conditional_mask_update_op will update the masks only when the\n",
    "    # training step is in [begin_pruning_step, end_pruning_step] specified in\n",
    "    # the pruning spec proto.\n",
    "    mask_update_op = pruning_obj.conditional_mask_update_op()\n",
    "\n",
    "    # Pruning summaries.\n",
    "    pruning_obj.add_pruning_summaries()\n",
    "\n",
    "    # Summary update op.\n",
    "    summary_op = tf.summary.merge_all()\n",
    "\n",
    "    # Initialization.\n",
    "    sess.run(tf.global_variables_initializer())\n",
    "    summary_writer = tf.summary.FileWriter('graphs/easy/prunable', graph=sess.graph)\n",
    "\n",
    "    for step in range(num_steps):\n",
    "\n",
    "        offset = (step * batch_size) % (train_labels.shape[0] - batch_size)\n",
    "        batch_data = train_dataset[offset:(offset + batch_size), :, :, :]\n",
    "        batch_labels = train_labels[offset:(offset + batch_size), :]\n",
    "\n",
    "        feed_dict = {tf_train_dataset : batch_data, tf_train_labels : batch_labels}\n",
    "        _, l, predictions = sess.run([optimizer, loss, train_prediction], feed_dict=feed_dict)\n",
    "\n",
    "        if step % 200 == 0:\n",
    "            print('Minibatch loss at step %d: %f' % (step, l))\n",
    "            print('Minibatch accuracy: %.1f%%' % accuracy(predictions, batch_labels))\n",
    "            print('Validation accuracy: %.1f%%' % accuracy(valid_prediction.eval(), valid_labels))\n",
    "            print('Mask: %.1f' %(np.mean(pruning.get_masks()[0].eval())))\n",
    "            print('Threshold: %.1f' %(pruning.get_thresholds()[0].eval()))\n",
    "\n",
    "            summary = sess.run(summary_op, feed_dict=feed_dict)\n",
    "            summary_writer.add_summary(summary, global_step=step)\n",
    "\n",
    "        sess.run(mask_update_op)\n",
    "\n",
    "    print('Test accuracy: %.1f%%' % accuracy(test_prediction.eval(), test_labels))\n",
    "\n",
    "    # Close.\n",
    "    summary_writer.close()\n"
   ]
  },
  {
   "cell_type": "code",
   "execution_count": 6,
   "metadata": {
    "scrolled": true
   },
   "outputs": [
    {
     "name": "stdout",
     "output_type": "stream",
     "text": [
      "[<tf.Variable 'model/Conv/mask:0' shape=(5, 5, 1, 16) dtype=float32_ref>, <tf.Variable 'model/Conv_1/mask:0' shape=(5, 5, 16, 16) dtype=float32_ref>, <tf.Variable 'model/fully_connected/mask:0' shape=(784, 32) dtype=float32_ref>, <tf.Variable 'model/fully_connected_1/mask:0' shape=(32, 10) dtype=float32_ref>, <tf.Variable 'model/Conv/mask:0' shape=(5, 5, 1, 16) dtype=float32_ref>, <tf.Variable 'model/Conv_1/mask:0' shape=(5, 5, 16, 16) dtype=float32_ref>, <tf.Variable 'model/fully_connected/mask:0' shape=(784, 32) dtype=float32_ref>, <tf.Variable 'model/fully_connected_1/mask:0' shape=(32, 10) dtype=float32_ref>, <tf.Variable 'model/Conv/mask:0' shape=(5, 5, 1, 16) dtype=float32_ref>, <tf.Variable 'model/Conv_1/mask:0' shape=(5, 5, 16, 16) dtype=float32_ref>, <tf.Variable 'model/fully_connected/mask:0' shape=(784, 32) dtype=float32_ref>, <tf.Variable 'model/fully_connected_1/mask:0' shape=(32, 10) dtype=float32_ref>]\n",
      "[<tf.Variable 'model/Conv/threshold:0' shape=() dtype=float32_ref>, <tf.Variable 'model/Conv_1/threshold:0' shape=() dtype=float32_ref>, <tf.Variable 'model/fully_connected/threshold:0' shape=() dtype=float32_ref>, <tf.Variable 'model/fully_connected_1/threshold:0' shape=() dtype=float32_ref>, <tf.Variable 'model/Conv/threshold:0' shape=() dtype=float32_ref>, <tf.Variable 'model/Conv_1/threshold:0' shape=() dtype=float32_ref>, <tf.Variable 'model/fully_connected/threshold:0' shape=() dtype=float32_ref>, <tf.Variable 'model/fully_connected_1/threshold:0' shape=() dtype=float32_ref>, <tf.Variable 'model/Conv/threshold:0' shape=() dtype=float32_ref>, <tf.Variable 'model/Conv_1/threshold:0' shape=() dtype=float32_ref>, <tf.Variable 'model/fully_connected/threshold:0' shape=() dtype=float32_ref>, <tf.Variable 'model/fully_connected_1/threshold:0' shape=() dtype=float32_ref>]\n",
      "12\n",
      "12\n"
     ]
    }
   ],
   "source": [
    "print(pruning.get_masks())\n",
    "print(pruning.get_thresholds())\n",
    "\n",
    "print(len(pruning.get_masks()))\n",
    "print(len(pruning.get_thresholds()))\n"
   ]
  }
 ],
 "metadata": {
  "colab": {
   "default_view": {},
   "name": "4_convolutions.ipynb",
   "provenance": [],
   "version": "0.3.2",
   "views": {}
  },
  "kernelspec": {
   "display_name": "Python 3",
   "language": "python",
   "name": "python3"
  },
  "language_info": {
   "codemirror_mode": {
    "name": "ipython",
    "version": 3
   },
   "file_extension": ".py",
   "mimetype": "text/x-python",
   "name": "python",
   "nbconvert_exporter": "python",
   "pygments_lexer": "ipython3",
   "version": "3.6.5"
  }
 },
 "nbformat": 4,
 "nbformat_minor": 1
}
